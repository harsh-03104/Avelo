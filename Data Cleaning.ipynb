{
 "cells": [
  {
   "cell_type": "code",
   "execution_count": 1,
   "id": "87fd34c3-a1f6-4ffd-856a-f56a1dcdb771",
   "metadata": {},
   "outputs": [],
   "source": [
    "import pandas as pd\n",
    "import sqlite3\n",
    "import os"
   ]
  },
  {
   "cell_type": "code",
   "execution_count": 2,
   "id": "e183ff7f-5b36-4311-98a6-32ce75b49a5b",
   "metadata": {},
   "outputs": [],
   "source": [
    "project_folder = r\"C:\\Users\\harsh\\OneDrive\\Desktop\\Job\\Temp resume\\Avelo\\Data\\Data\"  # <--- change this\n",
    "db_path = os.path.join(project_folder, \"avelo_routes.db\")"
   ]
  },
  {
   "cell_type": "code",
   "execution_count": 3,
   "id": "468fe062-6baa-4b37-9c26-ef3d8044da72",
   "metadata": {},
   "outputs": [],
   "source": [
    "db1b_folder = os.path.join(project_folder, \"DB1B\")\n",
    "t100_folder = os.path.join(project_folder, \"T100\")"
   ]
  },
  {
   "cell_type": "code",
   "execution_count": 4,
   "id": "82434118-bdd8-4526-b879-c556afb791f8",
   "metadata": {},
   "outputs": [],
   "source": [
    "conn = sqlite3.connect(db_path)"
   ]
  },
  {
   "cell_type": "code",
   "execution_count": 5,
   "id": "61900853-9d0c-4040-b6ba-2b3a5f9c663e",
   "metadata": {},
   "outputs": [
    {
     "name": "stdout",
     "output_type": "stream",
     "text": [
      "[DB1B] Processing: T_DB1B_MARKET 2023 Q1.csv\n",
      "[DB1B] Processing: T_DB1B_MARKET 2023 Q2.csv\n",
      "[DB1B] Processing: T_DB1B_MARKET 2023 Q3.csv\n",
      "[DB1B] Processing: T_DB1B_MARKET 2023 Q4.csv\n",
      "[DB1B] Processing: T_DB1B_MARKET 2024 Q1.csv\n",
      "[DB1B] Processing: T_DB1B_MARKET 2024 Q2.csv\n",
      "[DB1B] Processing: T_DB1B_MARKET 2024 Q3.csv\n",
      "[DB1B] Processing: T_DB1B_MARKET 2024 Q4.csv\n",
      "[DB1B] Processing: T_DB1B_MARKET 2025 Q1.csv\n",
      "✅ DB1B: Loaded 162865 rows into 'db1b_market'\n"
     ]
    }
   ],
   "source": [
    "db1b_files = [f for f in os.listdir(db1b_folder) if f.startswith(\"T_DB1B_MARKET\") and f.endswith(('.xlsx', '.xls', '.csv'))]\n",
    "db1b_frames = []\n",
    "\n",
    "for file in db1b_files:\n",
    "    path = os.path.join(db1b_folder, file)\n",
    "    print(f\"[DB1B] Processing: {file}\")\n",
    "    \n",
    "    if file.endswith(\".csv\"):\n",
    "        df = pd.read_csv(path)\n",
    "    elif file.endswith(\".xlsx\"):\n",
    "        df = pd.read_excel(path, engine='openpyxl')\n",
    "    elif file.endswith(\".xls\"):\n",
    "        df = pd.read_excel(path, engine='xlrd')\n",
    "    else:\n",
    "        continue\n",
    "\n",
    "    df.columns = df.columns.str.upper().str.strip()\n",
    "    if \"REPORTING_CARRIER\" in df.columns:\n",
    "        df = df[df[\"REPORTING_CARRIER\"] == \"XP\"]\n",
    "        keep_cols = [\n",
    "            \"YEAR\", \"QUARTER\", \"ORIGIN\", \"DEST\", \"REPORTING_CARRIER\",\n",
    "            \"PASSENGERS\", \"MARKET_FARE\", \"MARKET_DISTANCE\"\n",
    "        ]\n",
    "        df = df[[col for col in keep_cols if col in df.columns]]\n",
    "        db1b_frames.append(df)\n",
    "\n",
    "if db1b_frames:\n",
    "    db1b_all = pd.concat(db1b_frames, ignore_index=True)\n",
    "    db1b_all.to_sql(\"db1b_market\", conn, if_exists=\"replace\", index=False)\n",
    "    print(f\" DB1B: Loaded {len(db1b_all)} rows into 'db1b_market'\")\n",
    "else:\n",
    "    print(\" No Avelo data found in DB1B files.\")"
   ]
  },
  {
   "cell_type": "code",
   "execution_count": 6,
   "id": "acac3b8f-0715-4749-92e7-95ffe2718007",
   "metadata": {},
   "outputs": [
    {
     "name": "stdout",
     "output_type": "stream",
     "text": [
      "[T100] Processing: T_T100D_SEGMENT_US_CARRIER_ONLY 2023.csv\n"
     ]
    },
    {
     "name": "stderr",
     "output_type": "stream",
     "text": [
      "C:\\Users\\harsh\\AppData\\Local\\Temp\\ipykernel_23652\\4063606125.py:9: DtypeWarning: Columns (13) have mixed types. Specify dtype option on import or set low_memory=False.\n",
      "  df = pd.read_csv(path)\n"
     ]
    },
    {
     "name": "stdout",
     "output_type": "stream",
     "text": [
      "[T100] Processing: T_T100D_SEGMENT_US_CARRIER_ONLY 2024.csv\n"
     ]
    },
    {
     "name": "stderr",
     "output_type": "stream",
     "text": [
      "C:\\Users\\harsh\\AppData\\Local\\Temp\\ipykernel_23652\\4063606125.py:9: DtypeWarning: Columns (13) have mixed types. Specify dtype option on import or set low_memory=False.\n",
      "  df = pd.read_csv(path)\n"
     ]
    },
    {
     "name": "stdout",
     "output_type": "stream",
     "text": [
      "[T100] Processing: T_T100D_SEGMENT_US_CARRIER_ONLY 2025.csv\n",
      "✅ T100: Loaded 6093 rows into 't100_segment'\n"
     ]
    }
   ],
   "source": [
    "t100_files = [f for f in os.listdir(t100_folder) if f.startswith(\"T_T100D_SEGMENT\") and f.endswith(('.xlsx', '.xls', '.csv'))]\n",
    "t100_frames = []\n",
    "\n",
    "for file in t100_files:\n",
    "    path = os.path.join(t100_folder, file)\n",
    "    print(f\"[T100] Processing: {file}\")\n",
    "    \n",
    "    if file.endswith(\".csv\"):\n",
    "        df = pd.read_csv(path)\n",
    "    elif file.endswith(\".xlsx\"):\n",
    "        df = pd.read_excel(path, engine='openpyxl')\n",
    "    elif file.endswith(\".xls\"):\n",
    "        df = pd.read_excel(path, engine='xlrd')\n",
    "    else:\n",
    "        continue\n",
    "\n",
    "    df.columns = df.columns.str.upper().str.strip()\n",
    "    df = df[df[\"UNIQUE_CARRIER\"] == \"XP\"]\n",
    "    keep_cols = [\n",
    "        \"YEAR\", \"QUARTER\", \"MONTH\", \"UNIQUE_CARRIER\", \"ORIGIN\", \"DEST\",\n",
    "        \"PASSENGERS\", \"SEATS\", \"DEPARTURES_PERFORMED\", \"DISTANCE\"\n",
    "    ]\n",
    "    df = df[[col for col in keep_cols if col in df.columns]]\n",
    "    t100_frames.append(df)\n",
    "\n",
    "if t100_frames:\n",
    "    t100_all = pd.concat(t100_frames, ignore_index=True)\n",
    "    t100_all.to_sql(\"t100_segment\", conn, if_exists=\"replace\", index=False)\n",
    "    print(f\" T100: Loaded {len(t100_all)} rows into 't100_segment'\")\n",
    "else:\n",
    "    print(\"No Avelo data found in T100 files.\")"
   ]
  },
  {
   "cell_type": "code",
   "execution_count": 7,
   "id": "10a51f37-30c9-4851-b637-37ca9c5a1145",
   "metadata": {},
   "outputs": [
    {
     "name": "stdout",
     "output_type": "stream",
     "text": [
      "✅ All data written to: C:\\Users\\harsh\\OneDrive\\Desktop\\Job\\Temp resume\\Avelo\\Data\\Data\\avelo_routes.db\n"
     ]
    }
   ],
   "source": [
    "conn.close()\n",
    "print(f\" ]All data written to: {db_path}\")"
   ]
  }
 ],
 "metadata": {
  "kernelspec": {
   "display_name": "Python 3 (ipykernel)",
   "language": "python",
   "name": "python3"
  },
  "language_info": {
   "codemirror_mode": {
    "name": "ipython",
    "version": 3
   },
   "file_extension": ".py",
   "mimetype": "text/x-python",
   "name": "python",
   "nbconvert_exporter": "python",
   "pygments_lexer": "ipython3",
   "version": "3.12.4"
  }
 },
 "nbformat": 4,
 "nbformat_minor": 5
}
